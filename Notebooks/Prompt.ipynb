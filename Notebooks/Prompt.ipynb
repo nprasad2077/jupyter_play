{
 "cells": [
  {
   "cell_type": "code",
   "execution_count": null,
   "metadata": {},
   "outputs": [],
   "source": [
    "import os\n",
    "import openai\n",
    "\n",
    "prompt = input('Enter Question: ')\n",
    "\n",
    "openai.api_key = os.getenv('OPENAI_KEY')\n",
    "\n",
    "response = openai.ChatCompletion.create(\n",
    "    model='gpt-4',\n",
    "    messages=[\n",
    "        {'role': 'system', 'content': 'You are expert data scientist with extensive experience with Jupyter Notebooks and Python'},\n",
    "        {'role': 'user', 'content': prompt}\n",
    "    ],\n",
    "    temperature=1,\n",
    "    max_tokens=5000,\n",
    "    top_p=1,\n",
    "    frequency_penalty=0.75,\n",
    "    presence_penalty=0.34,\n",
    "    stop=[\"--stop\"]\n",
    ")\n",
    "\n",
    "print(response.choices[0].message.content)"
   ]
  },
  {
   "cell_type": "markdown",
   "metadata": {},
   "source": [
    "---"
   ]
  },
  {
   "cell_type": "markdown",
   "metadata": {},
   "source": [
    "There are several libraries in Python that you can use for visualizing geographic or map data. Among these the most popular ones are GeoPandas, Matplotlib, Bokeh and Plotly. Here's a basic example of how to use GeoPandas:\n",
    "    \n",
    "To install geopandas:\n",
    "\n",
    "```python\n",
    "!pip install geopandas\n",
    "```\n",
    "    \n",
    "Then you can use it.\n",
    "\n",
    "```python\n",
    "import geopandas as gpd\n",
    "\n",
    "# load a sample dataset provided by geopandas package.\n",
    "world = gpd.read_file(gpd.datasets.get_path('naturalearth_lowres'))\n",
    "\n",
    "# plot the whole world\n",
    "world.plot()\n",
    "\n",
    "# plot a specific country(for instance, 'Brazil')\n",
    "brazil = world[world.name==\"Brazil\"]\n",
    "brazil.plot()\n",
    "```\n",
    "\n",
    "When you want more interactive maps or dealing with web based maps (like Google Maps), then Plotly and Folium provide great flexibility in that sense.\n",
    "\n",
    "Here is an example using folium:\n",
    "\n",
    "First Install it via pip :\n",
    "\n",
    "```python \n",
    "!pip install folium\n",
    "```\n",
    "Using folium library for creating maps:\n",
    "    \n",
    "```python \n",
    "import folium\n",
    "\n",
    "# Create a Map instance\n",
    "m = folium.Map(location=[-23.550520, -46.633308], zoom_start=12)\n",
    "\n",
    "m.save(\"map.html\")\n",
    "```\n",
    "\n",
    "This will create base map at specified location with defined zoom level.\n",
    "You can add markers, popups and many more to your map using respective methods available.\n",
    "\n",
    "Please pay attention: during working with geographical information (especially if your task should provide high precision) it's important to understand projection systems and always check what projection system used in your raw data.\n"
   ]
  },
  {
   "cell_type": "markdown",
   "metadata": {},
   "source": [
    "---"
   ]
  },
  {
   "cell_type": "code",
   "execution_count": null,
   "metadata": {},
   "outputs": [],
   "source": [
    "import os\n",
    "import openai\n",
    "\n",
    "python_code = input('Enter Python Code: ')\n",
    "\n",
    "openai.api_key = os.getenv(\"OPENAI_KEY\")\n",
    "\n",
    "response = openai.ChatCompletion.create(\n",
    "  model=\"gpt-4\",\n",
    "  messages=[\n",
    "    {\n",
    "      \"role\": \"system\",\n",
    "      \"content\": \"You will be provided with a piece of Python code, and your task is to find and fix bugs in it. Please also try and optimize the code.\"\n",
    "    },\n",
    "    {\n",
    "      \"role\": \"user\",\n",
    "      \"content\": python_code\n",
    "    }\n",
    "  ],\n",
    "  temperature=0.52,\n",
    "  max_tokens=8000,\n",
    "  top_p=1,\n",
    "  frequency_penalty=0.75,\n",
    "  presence_penalty=0.34,\n",
    "  stop=[\"--stop\"]\n",
    ")\n",
    "\n",
    "print(response.choices[0].message.content)"
   ]
  },
  {
   "cell_type": "markdown",
   "metadata": {},
   "source": [
    "---"
   ]
  },
  {
   "cell_type": "markdown",
   "metadata": {},
   "source": [
    "\n",
    "\n",
    "The code provided has some syntax issues. It appears to be trying to load environment variables from a .env file and then print the value of the 'HOME' variable. Here's a corrected version:\n",
    "\n",
    "```python\n",
    "from dotenv import load_dotenv\n",
    "import os\n",
    "\n",
    "load_dotenv() \n",
    "\n",
    "print(os.getenv('HOME'))\n",
    "```\n",
    "\n",
    "In this corrected version, each statement is properly placed on its own line. The function `load_dotenv()` is called without any arguments, which means it will look for a .env file in the same directory as where your script is running from.\n",
    "\n",
    "As for optimization, this script is already quite simple and doesn't have much room for further optimization. However, you might want to handle the case when 'HOME' environment variable does not exist in your .env file:\n",
    "\n",
    "```python\n",
    "from dotenv import load_dotenv\n",
    "import os\n",
    "\n",
    "load_dotenv()\n",
    "\n",
    "home = os.getenv('HOME')\n",
    "\n",
    "if home:\n",
    "    print(home)\n",
    "else:\n",
    "    print(\"'HOME' environment variable not found.\")\n",
    "```\n",
    "\n",
    "In this new version of the code, if there's no 'HOME' variable found in your .env or system environment variables, it prints an error message instead of None.\n",
    "\n"
   ]
  },
  {
   "cell_type": "markdown",
   "metadata": {},
   "source": [
    "---"
   ]
  }
 ],
 "metadata": {
  "kernelspec": {
   "display_name": "myenv",
   "language": "python",
   "name": "python3"
  },
  "language_info": {
   "codemirror_mode": {
    "name": "ipython",
    "version": 3
   },
   "file_extension": ".py",
   "mimetype": "text/x-python",
   "name": "python",
   "nbconvert_exporter": "python",
   "pygments_lexer": "ipython3",
   "version": "3.8.18"
  }
 },
 "nbformat": 4,
 "nbformat_minor": 2
}
