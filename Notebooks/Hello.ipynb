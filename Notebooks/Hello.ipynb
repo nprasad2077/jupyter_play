{
 "cells": [
  {
   "cell_type": "markdown",
   "id": "94c75842",
   "metadata": {},
   "source": [
    "# Hello Jupyter Notebooks"
   ]
  },
  {
   "cell_type": "markdown",
   "id": "2fbac8f6",
   "metadata": {},
   "source": [
    "##### Let's make sure python environment is properly activated and installed. Python Version 3.8 should be selected from the conda environment."
   ]
  },
  {
   "cell_type": "code",
   "execution_count": 24,
   "id": "4cf0d207",
   "metadata": {},
   "outputs": [
    {
     "name": "stdout",
     "output_type": "stream",
     "text": [
      "3.8.18 (default, Sep 11 2023, 13:40:15) \n",
      "[GCC 11.2.0]\n"
     ]
    }
   ],
   "source": [
    "import sys\n",
    "print(sys.version)"
   ]
  },
  {
   "cell_type": "markdown",
   "id": "507d25d2",
   "metadata": {},
   "source": [
    "### This completion component can be used to ask Data Science or Jupyter Notebook related questions"
   ]
  },
  {
   "cell_type": "code",
   "execution_count": 25,
   "id": "9039528c",
   "metadata": {},
   "outputs": [
    {
     "name": "stdout",
     "output_type": "stream",
     "text": [
      "1. Matplotlib: This is the most used Python library for 2D graphics. It allows easy creation of static, animated, and interactive visualizations in Python and offers flexibility in controlling every aspect of the graph.\n",
      "\n",
      "2. Seaborn: Seaborn library is based on Matplotlib and provides a higher-level interface for creating well-designed graphics. It includes some high level, dataset-oriented plotting routines.\n",
      "\n",
      "3. Plotly: Plotly supports many types of charts and graphs that are not available in other libraries. It provides tools for interactive and real-time graphs. Plotly integrates with Jupyter notebooks, allowing interactive plots within the notebook.\n",
      "\n",
      "4. Bokeh: Bokeh is a Python library capable of producing interactive and scalable visualizations in a browser using JavaScript widgets. It's suitable for creating interactive plots, dashboards, and data applications.\n",
      "\n",
      "5. ggplot: ggplot is a plotting system for Python based on R's ggplot2 and the Grammar of Graphics. Though not as flexible as Matplotlib, it makes creating more complex graphics easier.\n",
      "\n",
      "6. Altair: This library provides a simple API for generating complex visualizations using a declarative syntax. It’s built on top of Vega and Vega-Lite, JavaScript visualization libraries.\n",
      "\n",
      "7. Pandas Visualization: Pandas itself has straightforward, high-level functions for creating a variety of plots like line, bar, scatter, histogram, etc. It's built on Matplotlib and aims to integrate well within a scientific computing environment with many other 3rd party libraries.\n",
      "\n",
      "Remember, the choice of visualization tool often depends heavily on the specific needs of the data science project, as well as on personal preference. Each of the libraries listed above have their unique strongest aspects and capabilities, making each more suitable for certain scenarios than others.\n"
     ]
    }
   ],
   "source": [
    "import os\n",
    "import openai\n",
    "\n",
    "openai.api_key = os.getenv('OPENAI_KEY')\n",
    "\n",
    "response = openai.ChatCompletion.create(\n",
    "    model='gpt-4',\n",
    "    messages=[\n",
    "        {'role': 'system', 'content': 'You are expert data scientist with extensive experience with Jupyter Notebooks and Python'},\n",
    "        {'role': 'user', 'content': 'What are the best graphing or visualization tools for Jupyter Notebooks?'}\n",
    "    ]\n",
    ")\n",
    "\n",
    "print(response.choices[0].message.content)"
   ]
  },
  {
   "cell_type": "markdown",
   "id": "a4888a5c",
   "metadata": {},
   "source": [
    "### This component can be used to debug any Python script/file you have."
   ]
  },
  {
   "cell_type": "code",
   "execution_count": 26,
   "metadata": {},
   "outputs": [
    {
     "name": "stdout",
     "output_type": "stream",
     "text": [
      "The code has several bugs:\n",
      "\n",
      "1. Python is case-sensitive and the module `random` is all lower-case.\n",
      "2. The variables `a` and `b` should be inside the loop if you want to generate different questions each time.\n",
      "3. In Python, string concatenation of numbers with strings requires explicit conversion of number to string using str() function.\n",
      "4. In if statement, we use '==' for comparison not '=' which is used for assignment.\n",
      "5. Strings in print statements must be enclosed in quotes.\n",
      "\n",
      "Here's the corrected code:\n",
      "\n",
      "```python\n",
      "import random\n",
      "for i in range(10):\n",
      "    a = random.randint(1,12)\n",
      "    b = random.randint(1,12)\n",
      "    question = \"What is \"+ str(a) +\" x \"+ str(b) +\"? \"\n",
      "    answer = int(input(question))\n",
      "    if answer == a*b:\n",
      "        print (\"Well done!\")\n",
      "    else:\n",
      "        print(\"No.\")\n",
      "```\n",
      "\n",
      "This will now correctly ask 10 different multiplication questions and check the user's answers.\n"
     ]
    }
   ],
   "source": [
    "import os\n",
    "import openai\n",
    "\n",
    "# python_code = input()\n",
    "\n",
    "openai.api_key = os.getenv(\"OPENAI_KEY\")\n",
    "\n",
    "response = openai.ChatCompletion.create(\n",
    "  model=\"gpt-4\",\n",
    "  messages=[\n",
    "    {\n",
    "      \"role\": \"system\",\n",
    "      \"content\": \"You will be provided with a piece of Python code, and your task is to find and fix bugs in it.\"\n",
    "    },\n",
    "    {\n",
    "      \"role\": \"user\",\n",
    "      \"content\": \"import Random\\na = random.randint(1,12)\\nb = random.randint(1,12)\\nfor i in range(10):\\n    question = \\\"What is \\\"+a+\\\" x \\\"+b+\\\"? \\\"\\n    answer = input(question)\\n    if answer = a*b\\n        print (Well done!)\\n    else:\\n        print(\\\"No.\\\")\"\n",
    "    }\n",
    "  ],\n",
    "  temperature=0.52,\n",
    "  max_tokens=8000,\n",
    "  top_p=1,\n",
    "  frequency_penalty=0.75,\n",
    "  presence_penalty=0.34,\n",
    "  stop=[\"--stop\"]\n",
    ")\n",
    "\n",
    "print(response.choices[0].message.content)"
   ]
  }
 ],
 "metadata": {
  "kernelspec": {
   "display_name": "Python 3 (ipykernel)",
   "language": "python",
   "name": "python3"
  },
  "language_info": {
   "codemirror_mode": {
    "name": "ipython",
    "version": 3
   },
   "file_extension": ".py",
   "mimetype": "text/x-python",
   "name": "python",
   "nbconvert_exporter": "python",
   "pygments_lexer": "ipython3",
   "version": "3.8.18"
  }
 },
 "nbformat": 4,
 "nbformat_minor": 5
}
